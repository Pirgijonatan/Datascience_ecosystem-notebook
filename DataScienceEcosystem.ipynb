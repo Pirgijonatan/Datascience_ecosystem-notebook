{
 "cells": [
  {
   "cell_type": "markdown",
   "id": "3282312e-99f3-46f3-9527-74c4e6e56a4b",
   "metadata": {},
   "source": [
    "# Data Science Tools and Ecosystem"
   ]
  },
  {
   "cell_type": "markdown",
   "id": "83e3b782-7322-445a-9c7f-3c8359f13f71",
   "metadata": {},
   "source": [
    "## Dalam notebook ini, Alat dan Ekosistem Data Science dirangkum."
   ]
  },
  {
   "cell_type": "markdown",
   "id": "0ac386b9-cfbf-4bd0-aec2-ee94a4917d57",
   "metadata": {},
   "source": [
    "## *Tujuan:*\n",
    "\n",
    "- Daftar bahasa populer untuk Data Science  \n",
    "- Pustaka yang umum digunakan dalam Data Science  \n",
    "- Alat yang digunakan oleh Data Scientist  \n",
    "- Contoh ekspresi aritmatika di Python  \n",
    "- Konversi satuan dari menit ke jam"
   ]
  },
  {
   "cell_type": "markdown",
   "id": "d5169eb9-2052-4d4f-b017-c766d6ec3fd4",
   "metadata": {},
   "source": [
    "### Beberapa bahasa populer yang digunakan oleh Data Scientist adalah:\n",
    "- Pyton\n",
    "- R\n",
    "- Julia"
   ]
  },
  {
   "cell_type": "markdown",
   "id": "0095e3de-3cb1-4330-8123-336531220641",
   "metadata": {},
   "source": [
    "### Beberapa pustaka yang umum digunakan oleh Data Scientist meliputi\n",
    "- Seaborn\n",
    "- NumPy\n",
    "- Matplotlib\n",
    "- Dask\n",
    "- Pandas\n",
    "- Bokeh\n",
    "- Plotly\n",
    "- SciPy"
   ]
  },
  {
   "cell_type": "markdown",
   "id": "982187ed-8e0b-48d0-b92b-a44464d843b3",
   "metadata": {},
   "source": [
    "### Alat data science\n",
    "| Alat data science | \n",
    "| -------------|\n",
    "| Tensorflow |\n",
    "| Apachespark | \n",
    "| jupyter |"
   ]
  },
  {
   "cell_type": "markdown",
   "id": "db1cbb1b-cbcb-441e-a73c-3f4053891a0e",
   "metadata": {},
   "source": [
    "### Berikut adalah beberapa contoh evaluasi ekspresi aritmatika di Python\n"
   ]
  },
  {
   "cell_type": "code",
   "execution_count": 12,
   "id": "20549082-8724-4477-aeeb-c791f3fdea6d",
   "metadata": {},
   "outputs": [
    {
     "data": {
      "text/plain": [
       "17"
      ]
     },
     "execution_count": 12,
     "metadata": {},
     "output_type": "execute_result"
    }
   ],
   "source": [
    "(3*4)+5\n",
    "#Ini adalah ekspresi aritmatika sederhana untuk mengalikan kemudian menambah bilangan bulat"
   ]
  },
  {
   "cell_type": "code",
   "execution_count": 17,
   "id": "679d4063-cf0e-48d7-8f5b-243a97dddc5b",
   "metadata": {},
   "outputs": [
    {
     "name": "stdout",
     "output_type": "stream",
     "text": [
      "200 menit = 3 jam 20 menit\n"
     ]
    }
   ],
   "source": [
    "menit = 200\n",
    "\n",
    "jam = menit // 60          # Dapatkan jumlah jam\n",
    "sisa_menit = menit % 60    # Dapatkan sisa menit\n",
    "\n",
    "print(f\"{menit} menit = {jam} jam {sisa_menit} menit\")\n",
    "#ini akan mengonversi 200 menit menjadi jam dengan membagi 60"
   ]
  },
  {
   "cell_type": "markdown",
   "id": "9ff03e1f-7cbc-4707-ad21-1a6e751776c8",
   "metadata": {},
   "source": [
    "## Penulis\n",
    "Muhamad Pirgi Jonatan"
   ]
  },
  {
   "cell_type": "code",
   "execution_count": null,
   "id": "497178e3-9ff6-4aa8-9a44-e8152aadc022",
   "metadata": {},
   "outputs": [],
   "source": []
  }
 ],
 "metadata": {
  "kernelspec": {
   "display_name": "Python 3 (ipykernel)",
   "language": "python",
   "name": "python3"
  },
  "language_info": {
   "codemirror_mode": {
    "name": "ipython",
    "version": 3
   },
   "file_extension": ".py",
   "mimetype": "text/x-python",
   "name": "python",
   "nbconvert_exporter": "python",
   "pygments_lexer": "ipython3",
   "version": "3.12.11"
  }
 },
 "nbformat": 4,
 "nbformat_minor": 5
}
